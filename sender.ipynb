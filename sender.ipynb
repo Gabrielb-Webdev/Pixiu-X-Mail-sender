{
 "cells": [
  {
   "cell_type": "code",
   "execution_count": null,
   "metadata": {},
   "outputs": [],
   "source": [
    "import pandas as pd\n",
    "import smtplib\n",
    "from email.mime.text import MIMEText\n",
    "from email.mime.multipart import MIMEMultipart\n",
    "\n",
    "# Configuración del servidor de correo\n",
    "smtp_server = 'smtp.gmail.com'\n",
    "smtp_port = 587\n",
    "email_sender = 'gabrielbwebdev@gmail.com'\n",
    "email_password = 'uwlz fxif yawa eybf'  # Usa la contraseña de aplicación generada\n",
    "\n",
    "# Crear conexión con el servidor de correo\n",
    "try:\n",
    "    server = smtplib.SMTP(smtp_server, smtp_port)\n",
    "    server.set_debuglevel(1)  # Activar el modo de depuración para ver el flujo\n",
    "    server.starttls()  # Iniciar TLS\n",
    "    server.login(email_sender, email_password)\n",
    "    print(\"Autenticación exitosa.\")\n",
    "    \n",
    "    # Cargar el archivo CSV\n",
    "    df = pd.read_csv('mails.csv')\n",
    "\n",
    "    # Enviar correos electrónicos\n",
    "    for index, row in df.iterrows():\n",
    "        nombre = row['Nombre']\n",
    "        apellido = row['Apellido']\n",
    "        email_recipient = row['Email']\n",
    "\n",
    "        # Crear el mensaje\n",
    "        subject = \"Prueba de envío de correo\"\n",
    "        body = f\"Hola {nombre} {apellido},\\n\\nEsto es una prueba.\"\n",
    "\n",
    "        msg = MIMEMultipart()\n",
    "        msg['From'] = email_sender\n",
    "        msg['To'] = email_recipient\n",
    "        msg['Subject'] = subject\n",
    "        msg.attach(MIMEText(body, 'plain'))\n",
    "\n",
    "        # Enviar el correo\n",
    "        try:\n",
    "            server.sendmail(email_sender, email_recipient, msg.as_string())\n",
    "            print(f\"Correo enviado a {nombre} {apellido} ({email_recipient})\")\n",
    "        except Exception as e:\n",
    "            print(f\"Error al enviar correo a {nombre} {apellido} ({email_recipient}): {e}\")\n",
    "\n",
    "    # Cerrar la conexión con el servidor\n",
    "    server.quit()\n",
    "\n",
    "except smtplib.SMTPAuthenticationError as e:\n",
    "    print(\"Error de autenticación:\", e)\n",
    "except Exception as e:\n",
    "    print(\"Error al conectar con el servidor SMTP:\", e)\n"
   ]
  }
 ],
 "metadata": {
  "kernelspec": {
   "display_name": "Python 3",
   "language": "python",
   "name": "python3"
  },
  "language_info": {
   "codemirror_mode": {
    "name": "ipython",
    "version": 3
   },
   "file_extension": ".py",
   "mimetype": "text/x-python",
   "name": "python",
   "nbconvert_exporter": "python",
   "pygments_lexer": "ipython3",
   "version": "3.11.5"
  }
 },
 "nbformat": 4,
 "nbformat_minor": 2
}
